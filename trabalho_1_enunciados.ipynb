{
 "cells": [
  {
   "cell_type": "markdown",
   "metadata": {},
   "source": [
    "# Trabalho 1 — Mat. Comp. 2 — 2024.1"
   ]
  },
  {
   "cell_type": "markdown",
   "metadata": {},
   "source": [
    "## Identificação dos autores\n",
    "\n",
    "* Estudante 1:\n",
    "    * _Nome:_\n",
    "    * _Matrícula:_\n",
    "* Estudante 2 (se houver):\n",
    "    * _Nome:_\n",
    "    * _Matrícula:_\n",
    "* Estudante 3 (se houver):\n",
    "    * _Nome:_\n",
    "    * _Matrícula:_"
   ]
  },
  {
   "cell_type": "markdown",
   "metadata": {},
   "source": [
    "## Instruções\n",
    "\n",
    "* O trabalho pode ser resolvido por um grupo de no máximo 3 alunos.\n",
    "* Utilize o Google Colab para editar este arquivo (exatamente como nas aulas). Os enunciados das questões estão na próxima seção.\n",
    "* Preencha a identificação de cada um(a) acima. Para isto:\n",
    "  * Clique duas vezes com o botão esquerdo do mouse na célula acima para entrar no modo de edição.\n",
    "  * Preencha os dados sem modificar a parte que já está escrita.\n",
    "  * Após terminar, aperte `Shift + Enter` para sair do modo de edição e conferir o resultado.\n",
    "* Resolva os problemas enunciados abaixo utilizando apenas células de código.\n",
    "  * Para inserir uma nova célula de código, selecione uma célula qualquer clicando na região à esquerda dela e então pressionando `b` ou `a` para criar uma nova célula abaixo ou acima, respectivamente.\n",
    "  * Caso deseje explicar melhor algum passo, pode utilizar comentários Python (usando `#`).\n",
    "* _O envio deve ser feito até quarta-feira dia 10/07 às 23:59:59_. Trabalhos recebidos depois deste horário serão desconsiderados.\n",
    "* Cada item vale $ 2 $ pontos, para um total de $ 10 $ pontos."
   ]
  },
  {
   "cell_type": "markdown",
   "metadata": {},
   "source": [
    "## Problemas"
   ]
  },
  {
   "cell_type": "markdown",
   "metadata": {},
   "source": [
    "__Problema 1 ([cifra de Hill](https://en.wikipedia.org/wiki/Hill_cipher)):__\n",
    "Neste problema usaremos um método simples baseado em álgebra linear para\n",
    "codificar e decodificar mensagens.  O algoritmo funciona da seguinte maneira.\n",
    "\n",
    "* Atribua um valor numérico aos caracteres\n",
    "$\n",
    "    \\big(\\text{espaço} = 0,\\ \\ A = 1,\\ \\ B = 2,\\ \\cdots,\\ \\  Z = 26,\\ \\ \\text{ponto} = 27\n",
    "    , \\ \\ \\backslash \\texttt{n} = 28 \\big).\n",
    "$\n",
    "É importante que o número total de símbolos (no caso $ 29 $) seja primo.\n",
    "\n",
    "* Escolha uma mensagem com número par de caracteres para codificar. Represente-a \n",
    "como uma matriz $ 2 \\times n $, onde cada entrada corresponde a uma letra. Por\n",
    "exemplo, \"PYTHON\" seria representado como\n",
    "$$\n",
    "\\begin{bmatrix}\n",
    "P & Y & T \\\\\n",
    "H & O & N\n",
    "\\end{bmatrix}\n",
    "\\longleftrightarrow\n",
    "\\begin{bmatrix}\n",
    "16 & 25 & 20 \\\\\n",
    "8 & 15 & 14\n",
    "\\end{bmatrix}\\,.\n",
    "$$"
   ]
  },
  {
   "cell_type": "markdown",
   "metadata": {},
   "source": [
    "* Denote por $ \\mathbb{Z}_{29} $ o conjunto dos números entre $ 0 $ e $ 28 $ com\n",
    "  as operações $ \\oplus $ e $ \\odot $ de adição e multiplicação módulo\n",
    "  $ 29 $. Ou seja, para $ a, b \\in \\mathbb{Z}_{29} $:\n",
    "  - **adição**: $ a \\oplus b $ é calculada como a soma usual de $ a $ e $ b $,\n",
    "    seguida da redução módulo $ 29 $. Formalmente, $ a \\oplus b = a + b \\pmod{29} $. Por exemplo,\n",
    "    $ 17 \\oplus 18 = 35 \\pmod{29} = 6 $, porque o resto da divisão inteira de $\n",
    "    35 $ por $ 29 $ é $ 6 $.\n",
    "  - **multiplicação**: $ a \\odot b $ é calculado como o produto usual de $ a $ e\n",
    "    $ b $, seguido da redução módulo $ 29 $. Formalmente, $ a \\odot b = a \\cdot\n",
    "    b \\pmod{29} $. Por exemplo, $ 17 \\odot 18 = 306 \\pmod{29} = 16 $, porque o\n",
    "    resto da divisão de $ 306 $ por $ 29 $ é $ 16 $.\n",
    "  \n",
    "  Estas operações têm propriedades análogas à adição e multiplicação usuais (são\n",
    "  comutativas, associativas, vale a distributividade, etc.). Em particular, o\n",
    "  elemento neutro da adição é $ 0 $ e o da multiplicação é $ 1 $.\n",
    "\n",
    "* Escolha uma matriz\n",
    "  $$\n",
    "  C = \\begin{bmatrix}\n",
    "  a & b \\\\\n",
    "  c & d \n",
    "  \\end{bmatrix}\n",
    "  $$\n",
    "  qualquer com entradas em $ \\mathbb Z_{29} $, desde que ela seja invertível como\n",
    "  matriz sobre $ \\mathbb Z_{29} $, ou seja, desde que o seu determinante $ ad -\n",
    "  bc $ _não_ seja múltiplo de $ 29 $.  A matriz $ C $ é a chave para o\n",
    "  processo de codificação. Mais precisamente, para codificar uma mensagem como\n",
    "  \"PYTHON\", primeiro a convertemos numa matriz $ M $ de forma $ 2\\times n $\n",
    "  como explicado acima, depois tomamos o produto  $ CM $ usual, reduzimos todas\n",
    "  as entradas do resultado módulo $ 29 $ e finalmente convertemos este último na\n",
    "  mensagem correspondente, de novo pela equivalência discutida acima.\n",
    "\n",
    "* A chave para decodificação é a\n",
    "  inversa $ C^{-1} $ de $ C $ _como matriz sobre_ $ \\mathbb Z_{29} $ (é explicado\n",
    "  abaixo como calculá-la). Ou seja, seguimos o mesmo procedimento que para a\n",
    "  codificação, mas com $ C^{-1} $ no lugar de $ C $.\n"
   ]
  },
  {
   "cell_type": "markdown",
   "metadata": {},
   "source": [
    "Funções auxiliares `mensagem_para_matriz` e `matriz_para_mensagem` que convertem uma\n",
    "mensagem (string) de comprimento par na matriz $ 2\\times n $ sobre $ \\mathbb Z_{29} $\n",
    "correspondente, e reciprocamente, conforme descrito acima, já estão fornecidas abaixo.\n",
    "Recorde também que `m % n` é o resto da divisão de $ m $ por $ n $; você irá\n",
    "precisar deste operador em diversos momentos na resolução dos itens."
   ]
  },
  {
   "cell_type": "code",
   "execution_count": 4,
   "metadata": {},
   "outputs": [],
   "source": [
    "import numpy as np\n",
    "\n",
    "# O seguinte dicionário traduz caracteres para números:\n",
    "char_to_num = {\n",
    "    ' ': 0, 'A': 1, 'B': 2, 'C': 3, 'D': 4, 'E': 5, 'F': 6, 'G': 7, 'H': 8, 'I': 9,\n",
    "    'J': 10, 'K': 11, 'L': 12, 'M': 13, 'N': 14, 'O': 15, 'P': 16, 'Q': 17, 'R': 18,\n",
    "    'S': 19, 'T': 20, 'U': 21, 'V': 22, 'W': 23, 'X': 24, 'Y': 25, 'Z': 26, '.': 27,\n",
    "    '\\n': 28\n",
    "}\n",
    "# E este é o dicionário de mapeamento de números para caracteres:\n",
    "num_to_char = {v: k for k, v in char_to_num.items()}\n",
    "\n",
    "\n",
    "def mensagem_para_matriz(mensagem):\n",
    "    \"\"\"Converte uma mensagem em uma matriz 2 x n de números em Z_29.\"\"\"\n",
    "    # Verificando se o número de caracteres é par:\n",
    "    if len(mensagem) % 2 != 0:\n",
    "        raise ValueError(\"O número de caracteres na mensagem deve ser par!\")\n",
    "    \n",
    "    # Convertendo cada caracter ao seu correspondente numérico:\n",
    "    nums = [char_to_num[char] for char in mensagem]\n",
    "    \n",
    "    # Convertendo a lista acima em uma matriz 2 x n e retornando esta matriz:\n",
    "    matriz = np.array(nums).reshape(2, -1)\n",
    "    return matriz\n",
    "\n",
    "\n",
    "def matriz_para_mensagem(matriz):\n",
    "    \"\"\"Converte uma matriz 2 x n de números em Z_29 em uma mensagem (string).\"\"\"\n",
    "    # Convertendo a matriz numa lista de números:\n",
    "    nums = matriz.flatten()\n",
    "    \n",
    "    # Convertendo cada número ao seu caracter correspondente:\n",
    "    mensagem = ''.join(num_to_char[num] for num in nums)\n",
    "    return mensagem"
   ]
  },
  {
   "cell_type": "code",
   "execution_count": 5,
   "metadata": {},
   "outputs": [
    {
     "name": "stdout",
     "output_type": "stream",
     "text": [
      "Matriz correspondente à mensagem \"PYTHON\":\n",
      "[[16 25 20]\n",
      " [ 8 15 14]] \n",
      "\n",
      "Mensagem correspondente a esta matriz: PYTHON\n"
     ]
    }
   ],
   "source": [
    "# Exemplo:\n",
    "mensagem = \"PYTHON\"\n",
    "matriz = mensagem_para_matriz(mensagem)\n",
    "print(\"Matriz correspondente à mensagem \\\"PYTHON\\\":\")\n",
    "print(matriz, '\\n')\n",
    "\n",
    "mensagem = matriz_para_mensagem(matriz)\n",
    "print(\"Mensagem correspondente a esta matriz:\", mensagem)"
   ]
  },
  {
   "cell_type": "markdown",
   "metadata": {},
   "source": [
    "Agora resolva os seguintes itens:\n",
    "\n",
    "(a) Qualquer $ a \\in \\mathbb Z_{29} $ diferente de $ 0 $ tem um inverso\n",
    "multiplicativo $ a^{-1} $. Ele é o único elemento $ b $ de $ \\mathbb Z_{29} $\n",
    "tal que $ a\\odot b = b \\odot a = 1 $. Crie um procedimento\n",
    "`inverso(a)` em Python que recebe um número $ a $ entre $ 1 $ e $ 28 $ e\n",
    "calcula o seu inverso multiplicativo em $ \\mathbb Z_{29} $.  Verifique que o\n",
    "inverso de $ 17 $ é $ 12\n",
    "$.  _Dica:_ Use um laço de repetição `for` para testar todas as possibilidades\n",
    "até encontrar o inverso.\n"
   ]
  },
  {
   "cell_type": "code",
   "execution_count": null,
   "metadata": {},
   "outputs": [],
   "source": [
    "# Item (a)"
   ]
  },
  {
   "cell_type": "markdown",
   "metadata": {},
   "source": [
    "(b) A inversa sobre $ \\mathbb Z_{29} $ de uma matriz $ C = \\begin{bmatrix}a & b \\\\ c & d \\end{bmatrix} $\n",
    "com entradas em $ \\mathbb Z_{29} $ é dada por\n",
    "$$\n",
    "C^{-1} = \\det(C)^{-1} \\begin{bmatrix}\n",
    "d & -b \\\\\n",
    "-c & a\n",
    "\\end{bmatrix} \\pmod{29}\\,.\n",
    "$$\n",
    "Ou seja, a expressão é idêntica àquela para a inversa de uma matriz $ 2\\times 2 $ de entradas\n",
    "reais, exceto que o inverso de $ \\det(C) $ é tomado em $ \\mathbb Z_{29} $ e ao\n",
    "final precisamos reduzir os coeficientes módulo $ 29 $. Crie um procedimento `matriz_inversa(C)`\n",
    "que toma uma matriz $ 2 \\times 2 $ invertível $ C $ com entradas em $ \\mathbb Z_{29} $ e\n",
    "retorna sua inversa. Utilize arrays NumPy para representar as matrizes. Para testar seu\n",
    "procedimento, verifique que a inversa de \n",
    "$$\n",
    "C = \\begin{bmatrix}\n",
    "1 & 2 \\\\\n",
    "3 & 4\n",
    "\\end{bmatrix} \\quad \\text{é} \\quad\n",
    "C^{-1} = \\begin{bmatrix}\n",
    "27 & 1 \\\\\n",
    "16 & 14\n",
    "\\end{bmatrix}\\,.\n",
    "$$\n",
    "_Dica:_ Aproveite o procedimento `inverso` do item (a)."
   ]
  },
  {
   "cell_type": "code",
   "execution_count": 2,
   "metadata": {},
   "outputs": [],
   "source": [
    "# Item (b)"
   ]
  },
  {
   "cell_type": "markdown",
   "metadata": {},
   "source": [
    "(c) Crie um procedimento `codificar(C, mensagem)` que codifica uma mensagem\n",
    "arbitrária com número par de caracteres usando a matriz-chave $ C $, seguindo\n",
    "o algoritmo descrito no início. Verifique que se $ D $ é a inversa de $ C $,\n",
    "então `codificar(D, codificar(C, mensagem))` é a mensagem original.\n",
    "_Dica:_ Primeiro crie um procedimento para multiplicar dois arrays compatíveis\n",
    "sobre $ \\mathbb Z_{29} $.  Utilize as funções auxiliares fornecidas anteriormente."
   ]
  },
  {
   "cell_type": "code",
   "execution_count": 3,
   "metadata": {},
   "outputs": [],
   "source": [
    "# Item (c)"
   ]
  },
  {
   "cell_type": "markdown",
   "metadata": {},
   "source": [
    "__Problema 2 (integração sobre um tetraedro):__ Considere o tetraedro $ T $ de vértices \n",
    "$$\n",
    "(0, 0, 0), \\quad (1, 0, 0), \\quad (0, 1, 0), \\quad (0, 0, 1)\\,.\n",
    "$$\n",
    "Utilizando o SymPy:\n",
    "\n",
    "(a) Calcule o volume de $ T $.\n",
    "_Dica:_ Desenhe uma figura à mão para encontrar os limites de integração."
   ]
  },
  {
   "cell_type": "code",
   "execution_count": 2,
   "metadata": {},
   "outputs": [],
   "source": [
    "# Item (a)"
   ]
  },
  {
   "cell_type": "markdown",
   "metadata": {},
   "source": [
    "(b) Calcule a terceira coordenada $ \\bar z $ do centróide de $ T $, definida por\n",
    "$$\n",
    "\\bar z\\, \\iiint_T\\, 1\\,dx\\,dy\\,dz = \\iiint_T\\, z\\,dx\\,dy\\,dz\\,.\n",
    "$$\n",
    "Informalmente, $ \\bar z $ é a altura média dos pontos de $ T $."
   ]
  },
  {
   "cell_type": "code",
   "execution_count": 3,
   "metadata": {},
   "outputs": [],
   "source": [
    "# Item (b)"
   ]
  },
  {
   "cell_type": "code",
   "execution_count": null,
   "metadata": {},
   "outputs": [],
   "source": []
  }
 ],
 "metadata": {
  "kernelspec": {
   "display_name": "Python 3",
   "language": "python",
   "name": "python3"
  },
  "language_info": {
   "codemirror_mode": {
    "name": "ipython",
    "version": 3
   },
   "file_extension": ".py",
   "mimetype": "text/x-python",
   "name": "python",
   "nbconvert_exporter": "python",
   "pygments_lexer": "ipython3",
   "version": "3.12.3"
  }
 },
 "nbformat": 4,
 "nbformat_minor": 2
}
